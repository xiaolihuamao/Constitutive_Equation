{
 "cells": [
  {
   "cell_type": "code",
   "execution_count": null,
   "metadata": {},
   "outputs": [],
   "source": [
    "\n",
    "import torch\n",
    "import torch.nn as nn\n",
    "import numpy as np\n",
    "from scipy.optimize import curve_fit\n",
    "import matplotlib.pyplot as plt\n",
    "\n",
    "device = torch.device('cuda' if torch.cuda.is_available() else 'cpu')\n",
    "\n"
   ]
  },
  {
   "cell_type": "code",
   "execution_count": null,
   "metadata": {},
   "outputs": [],
   "source": [
    "def simple_maxwell_model(epsilon, t, G, eta):\n",
    "    \"\"\" 简单的麦克斯韦模型的应力计算 \"\"\"\n",
    "    # 计算应变的时间导数\n",
    "    epsilon_dot = torch.autograd.grad(epsilon, t, grad_outputs=torch.ones_like(epsilon), create_graph=True)[0]\n",
    "    # 计算应力\n",
    "    sigma = G * epsilon + eta * epsilon_dot\n",
    "    return sigma"
   ]
  },
  {
   "cell_type": "code",
   "execution_count": null,
   "metadata": {},
   "outputs": [],
   "source": [
    "class PINN(nn.Module):\n",
    "    def __init__(self, layers):\n",
    "        super(PINN, self).__init__()\n",
    "        self.layers = nn.ModuleList()\n",
    "        for i in range(len(layers)-1):\n",
    "            self.layers.append(nn.Linear(layers[i], layers[i+1]))\n",
    "            if i < len(layers)-2:\n",
    "                self.layers.append(nn.Tanh())\n",
    "\n",
    "    def forward(self, x):\n",
    "        for layer in self.layers:\n",
    "            x = layer(x)\n",
    "        return x"
   ]
  },
  {
   "cell_type": "code",
   "execution_count": null,
   "metadata": {},
   "outputs": [],
   "source": [
    "def net_r(model, gamma_dot, t, T, G, eta):\n",
    "    \"\"\" Residual calculation for simple Maxwell model \"\"\"\n",
    "    # 计算应变\n",
    "    epsilon = model(torch.cat([gamma_dot, t, T], dim=1))\n",
    "\n",
    "    # 计算应力\n",
    "    sigma = simple_maxwell_model(epsilon, t, G, eta)\n",
    "\n",
    "    # 计算残差\n",
    "    r = sigma - eta * gamma_dot\n",
    "    return r"
   ]
  },
  {
   "cell_type": "code",
   "execution_count": null,
   "metadata": {},
   "outputs": [],
   "source": [
    "def boundary_loss(model, gamma_dot_b, t_b, T_b, sigma_b, G, eta):\n",
    "    \"\"\" Boundary condition loss \"\"\"\n",
    "    epsilon_b = model(torch.cat([gamma_dot_b, t_b, T_b], dim=1))\n",
    "    sigma_pred = simple_maxwell_model(epsilon_b, t_b, G, eta)\n",
    "    loss_b = torch.mean((sigma_pred - sigma_b)**2)\n",
    "    return loss_b"
   ]
  },
  {
   "cell_type": "code",
   "execution_count": null,
   "metadata": {},
   "outputs": [],
   "source": [
    "def loss_func(model, gamma_dot, t, T, gamma_dot_b, t_b, T_b, sigma_b, G, eta):\n",
    "    \"\"\" Joint loss function \"\"\"\n",
    "    r = net_r(model, gamma_dot, t, T, G, eta)\n",
    "    loss_r = torch.mean(r**2)\n",
    "    loss_b = boundary_loss(model, gamma_dot_b, t_b, T_b, sigma_b, G, eta)\n",
    "    loss = loss_r + loss_b\n",
    "    return loss"
   ]
  },
  {
   "cell_type": "code",
   "execution_count": null,
   "metadata": {},
   "outputs": [],
   "source": [
    "# 生成数据\n",
    "N_r = 1000  # 残差点数量\n",
    "gamma_dot = torch.linspace(0, 1, N_r).view(-1, 1).requires_grad_(True).to(device)\n",
    "t = torch.linspace(0, 1, N_r).view(-1, 1).requires_grad_(True).to(device)\n",
    "T = torch.linspace(20, 100, N_r).view(-1, 1).requires_grad_(True).to(device)  # 温度\n",
    "\n",
    "# 生成边界条件数据\n",
    "N_b = 100  # 边界条件点数量\n",
    "gamma_dot_b = torch.linspace(0, 1, N_b).view(-1, 1).requires_grad_(True).to(device)\n",
    "t_b = torch.zeros(N_b, 1).requires_grad_(True).to(device)\n",
    "T_b = torch.linspace(20, 100, N_b).view(-1, 1).requires_grad_(True).to(device)  # 温度\n",
    "sigma_b = torch.tensor([0.1, 0.2, 0.3, 0.4, 0.5] * 20).view(-1, 1).to(device)  # 边界条件应力\n",
    "\n",
    "# 定义简单的麦克斯韦模型的参数\n",
    "G = torch.tensor(1.0).to(device)  # 弹性模量\n",
    "eta = torch.tensor(0.1).to(device)  # 粘度"
   ]
  },
  {
   "cell_type": "code",
   "execution_count": null,
   "metadata": {},
   "outputs": [],
   "source": [
    "# 初始化模型\n",
    "layers = [3, 20, 20, 20, 1]  # 输入维度为3，输出维度为1，表示应变\n",
    "model = PINN(layers).to(device)\n",
    "\n",
    "# 定义优化器\n",
    "optimizer = torch.optim.Adam(model.parameters(), lr=1e-3)\n",
    "# 训练模型\n",
    "for epoch in range(1000):\n",
    "    optimizer.zero_grad()\n",
    "    loss = loss_func(model, gamma_dot, t, T, gamma_dot_b, t_b, T_b, sigma_b, G, eta)\n",
    "    loss.backward()\n",
    "    optimizer.step()\n",
    "\n",
    "    if epoch % 100 == 0:\n",
    "        print(f'Epoch {epoch}, Loss: {loss.item()}')"
   ]
  },
  {
   "cell_type": "code",
   "execution_count": null,
   "metadata": {},
   "outputs": [],
   "source": [
    "# 预测\n",
    "model.eval()\n",
    "# 生成均匀变化的模拟数据\n",
    "gamma_dot_test = torch.linspace(0.1, 10.0, 100, requires_grad=True, device=device).view(-1, 1)\n",
    "t_test = torch.linspace(0.1, 10.0, 100, requires_grad=True, device=device).view(-1, 1)\n",
    "T_test = torch.linspace(30.0, 70.0, 100, requires_grad=True, device=device).view(-1, 1)\n",
    "epsilon_pred = model(torch.cat([gamma_dot_test, t_test, T_test], dim=1))\n",
    "sigma_pred = simple_maxwell_model(epsilon_pred, t_test, G, eta)\n",
    "\n",
    "# 调试步骤：打印数据范围\n",
    "print(\"t_test range:\", t_test.min().item(), t_test.max().item())\n",
    "print(\"sigma_pred range:\", sigma_pred.min().item(), sigma_pred.max().item())\n",
    "\n",
    "# 绘制预测结果\n",
    "plt.figure(figsize=(10, 6))\n",
    "plt.scatter(t_test.detach().numpy(), sigma_pred.detach().numpy(), label='Predicted Stress')\n",
    "print(t_test.detach().numpy())\n",
    "print(sigma_pred.detach().numpy())\n",
    "plt.xlabel('Time')\n",
    "plt.ylabel('Stress')\n",
    "plt.title('Stress vs Time')\n",
    "plt.legend()\n",
    "plt.show()"
   ]
  }
 ],
 "metadata": {
  "kernelspec": {
   "display_name": "Python 3",
   "language": "python",
   "name": "python3"
  },
  "language_info": {
   "codemirror_mode": {
    "name": "ipython",
    "version": 3
   },
   "file_extension": ".py",
   "mimetype": "text/x-python",
   "name": "python",
   "nbconvert_exporter": "python",
   "pygments_lexer": "ipython3",
   "version": "3.9.20"
  }
 },
 "nbformat": 4,
 "nbformat_minor": 2
}
