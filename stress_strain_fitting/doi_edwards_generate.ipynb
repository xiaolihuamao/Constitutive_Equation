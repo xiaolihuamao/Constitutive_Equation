{
 "cells": [
  {
   "cell_type": "code",
   "execution_count": 27,
   "metadata": {},
   "outputs": [],
   "source": [
    "import numpy as np\n",
    "from scipy.integrate import dblquad\n",
    "import matplotlib.pyplot as plt\n",
    "\n",
    "# 定义被积函数 f(theta, phi)\n",
    "def integrand(phi, theta, gamma):\n",
    "    numerator = 1 + gamma * np.sin(theta)**2 * np.cos(phi) * np.sin(phi)\n",
    "    denominator = np.sin(theta)**2 * (1 + 2 * gamma * np.cos(phi) * np.sin(phi) + gamma**2 * np.sin(phi)**2) + np.cos(theta)**2\n",
    "    return 5 * (numerator / denominator) * np.sin(theta) * gamma\n",
    "\n",
    "# 计算 Q(t', t) 的数值积分\n",
    "def calculate_Q(gamma):\n",
    "    result, _ = dblquad(integrand, 0, np.pi, lambda theta: 0, lambda theta: 2 * np.pi, args=(gamma,))\n",
    "    return result / (4 * np.pi)\n",
    "\n",
    "# 定义记忆函数 M(t-t')\n",
    "def memory_function(t, t_prime, G, lambda_i):\n",
    "    return G / lambda_i * np.exp((t_prime - t) / lambda_i)\n",
    "\n",
    "# 计算应力的函数\n",
    "def calculate_stress(t_values, gamma_values, Q_values, G, lambda_i):\n",
    "    dt = t_values[1] - t_values[0]  # 时间步长\n",
    "    stress = np.zeros_like(t_values)\n",
    "    \n",
    "    for i, t in enumerate(t_values):\n",
    "        gamma = gamma_values[i]  # 获取当前时间步的 gamma 值\n",
    "        Q = Q_values[i]  # 使用预先计算好的 Q 值\n",
    "        \n",
    "        t_prime_values = t_values[t_values <= t]  # 获取当前时间步之前的所有时间点\n",
    "        M_values = memory_function(t, t_prime_values, G, lambda_i)\n",
    "        stress[i] = np.sum(M_values * Q * dt)\n",
    "    \n",
    "    return stress\n",
    "\n",
    "# 设置参数\n",
    "G = 1.0\n",
    "lambda_i = 1\n",
    "t_start = 0.0\n",
    "dt = 0.01\n",
    "omega = np.pi  # 角频率\n",
    "T = 2 * np.pi / omega  # 周期\n",
    "t_end = 5*T\n",
    "\n",
    "# 生成时间数组\n",
    "t_values = np.arange(t_start, t_end, dt)\n",
    "\n",
    "# 设置应变为一个常数\n",
    "strain_constant = 1  # 应变常数值\n",
    "gamma_values = np.full(len(t_values), strain_constant)  # 生成一个全为常数的数组\n",
    "\n",
    "# 提前计算 Q 数组\n",
    "Q_values = np.array([calculate_Q(gamma) for gamma in gamma_values])\n",
    "\n",
    "# 计算应力\n",
    "stress = calculate_stress(t_values, gamma_values, Q_values, G, lambda_i)\n"
   ]
  },
  {
   "cell_type": "code",
   "execution_count": 2,
   "metadata": {},
   "outputs": [
    {
     "ename": "NameError",
     "evalue": "name 't_values' is not defined",
     "output_type": "error",
     "traceback": [
      "\u001b[0;31m---------------------------------------------------------------------------\u001b[0m",
      "\u001b[0;31mNameError\u001b[0m                                 Traceback (most recent call last)",
      "Cell \u001b[0;32mIn[2], line 8\u001b[0m\n\u001b[1;32m      6\u001b[0m \u001b[38;5;66;03m# 绘制应力随时间的变化\u001b[39;00m\n\u001b[1;32m      7\u001b[0m plt\u001b[38;5;241m.\u001b[39msubplot(\u001b[38;5;241m1\u001b[39m, \u001b[38;5;241m2\u001b[39m, \u001b[38;5;241m1\u001b[39m)\n\u001b[0;32m----> 8\u001b[0m plt\u001b[38;5;241m.\u001b[39mplot(\u001b[43mt_values\u001b[49m, stress)\n\u001b[1;32m      9\u001b[0m plt\u001b[38;5;241m.\u001b[39mxlabel(\u001b[38;5;124m'\u001b[39m\u001b[38;5;124mTime\u001b[39m\u001b[38;5;124m'\u001b[39m)\n\u001b[1;32m     10\u001b[0m plt\u001b[38;5;241m.\u001b[39mylabel(\u001b[38;5;124m'\u001b[39m\u001b[38;5;124mStress\u001b[39m\u001b[38;5;124m'\u001b[39m)\n",
      "\u001b[0;31mNameError\u001b[0m: name 't_values' is not defined"
     ]
    },
    {
     "data": {
      "image/png": "[encoded data removed]",
      "text/plain": [
       "<Figure size 1200x600 with 1 Axes>"
      ]
     },
     "metadata": {},
     "output_type": "display_data"
    }
   ],
   "source": [
    "import matplotlib.pyplot as plt\n",
    "# 可视化结果\n",
    "\n",
    "plt.figure(figsize=(12, 6))\n",
    "\n",
    "# 绘制应力随时间的变化\n",
    "plt.subplot(1, 2, 1)\n",
    "plt.plot(t_values, stress)\n",
    "plt.xlabel('Time')\n",
    "plt.ylabel('Stress')\n",
    "plt.title('Stress vs Time')\n",
    "\n",
    "# 绘制 Q 随时间的变化\n",
    "plt.subplot(1, 2, 2)\n",
    "#plt.plot(t_values, Q_values)\n",
    "plt.xlabel('Time')\n",
    "plt.ylabel('Q')\n",
    "plt.title('Q vs Time')\n",
    "\n",
    "plt.tight_layout()\n",
    "plt.show()\n",
    "# 可视化结果\n",
    "plt.figure(figsize=(18, 6))  # 调整画布大小以容纳更多子图\n",
    "\n",
    "# 绘制应力随应变的变化\n",
    "plt.subplot(1, 3, 2)\n",
    "#plt.plot(gamma_values, stress)\n",
    "plt.xlabel('Strain')\n",
    "plt.ylabel('Stress')\n",
    "plt.title('Stress vs Strain')\n",
    "\n",
    "# 绘制应力随 Q 的变化\n",
    "plt.subplot(1, 3, 3)\n",
    "#plt.plot(Q_values, stress)\n",
    "plt.xlabel('Q')\n",
    "plt.ylabel('Stress')\n",
    "plt.title('Stress vs Q')\n",
    "\n",
    "plt.tight_layout()\n",
    "plt.show()\n"
   ]
  },
  {
   "cell_type": "code",
   "execution_count": 29,
   "metadata": {},
   "outputs": [
    {
     "name": "stdout",
     "output_type": "stream",
     "text": [
      "数据已保存到 data/Doi_edwards_train.xlsx\n"
     ]
    }
   ],
   "source": [
    "import pandas as pd\n",
    "import os\n",
    "# 计算应变率（对应变函数求导）\n",
    "strain_rate = np.gradient(gamma_values, t_values)  # 使用 numpy 的 gradient 函数计算应变率\n",
    "# 创建一个 DataFrame 来保存数据\n",
    "data = {\n",
    "    'Time': t_values,\n",
    "    'σ12': stress,\n",
    "    'γ12': gamma_values,\n",
    "    'γ12_dot': strain_rate,\n",
    "    'Q': Q_values\n",
    "}\n",
    "df = pd.DataFrame(data)\n",
    "\n",
    "# 将数据保存到 Excel 文件中\n",
    "excel_file = 'data/Doi_edwards_train.xlsx'\n",
    "# 检查文件是否存在\n",
    "if os.path.exists(excel_file):\n",
    "    # 如果文件存在，追加新的工作簿\n",
    "    with pd.ExcelWriter(excel_file, engine='openpyxl', mode='a', if_sheet_exists='replace') as writer:\n",
    "        df.to_excel(writer, sheet_name='const', index=False)\n",
    "else:\n",
    "    # 如果文件不存在，创建新的文件\n",
    "    with pd.ExcelWriter(excel_file, engine='openpyxl') as writer:\n",
    "        df.to_excel(writer, sheet_name='const', index=False)\n",
    "        \n",
    "\n",
    "print(f\"数据已保存到 {excel_file}\")"
   ]
  }
 ],
 "metadata": {
  "kernelspec": {
   "display_name": "PINN",
   "language": "python",
   "name": "python3"
  },
  "language_info": {
   "codemirror_mode": {
    "name": "ipython",
    "version": 3
   },
   "file_extension": ".py",
   "mimetype": "text/x-python",
   "name": "python",
   "nbconvert_exporter": "python",
   "pygments_lexer": "ipython3",
   "version": "3.9.19"
  }
 },
 "nbformat": 4,
 "nbformat_minor": 2
}
